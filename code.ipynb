{
 "cells": [
  {
   "cell_type": "code",
   "execution_count": 1,
   "metadata": {
    "collapsed": true
   },
   "outputs": [],
   "source": [
    "import pandas as pd\n",
    "import numpy as np\n",
    "import scipy.stats as sc"
   ]
  },
  {
   "cell_type": "code",
   "execution_count": 2,
   "metadata": {
    "collapsed": false
   },
   "outputs": [],
   "source": [
    "data = pd.read_csv('diabetes.txt', sep = \" \")"
   ]
  },
  {
   "cell_type": "code",
   "execution_count": 3,
   "metadata": {
    "collapsed": false
   },
   "outputs": [
    {
     "data": {
      "text/plain": [
       "(442, 11)"
      ]
     },
     "execution_count": 3,
     "metadata": {},
     "output_type": "execute_result"
    }
   ],
   "source": [
    "# This is the good data\n",
    "data.shape"
   ]
  },
  {
   "cell_type": "code",
   "execution_count": 4,
   "metadata": {
    "collapsed": false
   },
   "outputs": [],
   "source": [
    "# Define X and Y arrays\n",
    "X = data.iloc[:,:data.shape[1]-1].as_matrix()\n",
    "Y = data.iloc[:,data.shape[1]-1].ravel()"
   ]
  },
  {
   "cell_type": "code",
   "execution_count": 5,
   "metadata": {
    "collapsed": false
   },
   "outputs": [],
   "source": [
    "# We center the Y\n",
    "Y_tilde = Y - Y.mean(axis=0)"
   ]
  },
  {
   "cell_type": "markdown",
   "metadata": {},
   "source": [
    "## 1] Empirical Bayes by Marginal Maximum Likelihood\n",
    "\n",
    "The Gibbs sampler used here uses the following full conditional distributions:\n",
    "\n",
    "- The full conditional for $\\beta$ is:\n",
    "\n",
    "<h3 align=\"center\"> $\\mathcal{N}_p(A^{-1}X^T\\tilde{y}, \\sigma^2A^{-1})$ where $A = X^TX+D^{-1}_\\tau$ and $D_\\tau = diag(\\tau^2_1,...,\\tau^2_p)$ </h3>\n",
    "\n",
    "- The full conditional for $\\sigma^2$ is:\n",
    "\n",
    "<h3 align=\"center\"> $\\mathcal{I}nverse\\mathcal{G}amma(\\frac{n-1+p}{2}, \\frac{(\\tilde{y}-X\\beta)^T(\\tilde{y}-X\\beta) + \\beta^TD^{-1}_\\tau\\beta}{2})$ </h3>\n",
    "\n",
    "- $\\tau^2_1, ..., \\tau^2_p$ are conditionnaly independent and $\\frac{1}{\\tau^2_j}$ has as conditional distribution:\n",
    "\n",
    "<h3 align=\"center\"> $\\mathcal{I}nverse\\mathcal{G}ausian(\\sqrt{\\frac{\\lambda^2\\sigma^2}{\\beta^2_j}}, \\lambda^2)$ </h3>"
   ]
  },
  {
   "cell_type": "code",
   "execution_count": 38,
   "metadata": {
    "collapsed": true
   },
   "outputs": [],
   "source": [
    "# Initialization\n",
    "beta = np.random.uniform(size = X.shape[1])\n",
    "sigma_sq = np.random.uniform()\n",
    "tau_sq = np.random.uniform(size = X.shape[1])\n",
    "\n",
    "beta_ = []\n",
    "sigma_sq_ = []\n",
    "tau_sq_ = []"
   ]
  },
  {
   "cell_type": "markdown",
   "metadata": {},
   "source": [
    "#### Full conditional for $\\beta$"
   ]
  },
  {
   "cell_type": "code",
   "execution_count": 9,
   "metadata": {
    "collapsed": false
   },
   "outputs": [],
   "source": [
    "D_tau = np.diag(tau_sq)\n",
    "A = X.transpose().dot(X) + np.linalg.inv(D_tau)\n",
    "multi_norm_mean = np.linalg.inv(A).dot(X.transpose()).dot(Y_tilde)\n",
    "multi_norm_cov = sigma_sq * np.linalg.inv(A)\n",
    "beta_.append(np.random.multivariate_normal(multi_norm_mean, multi_norm_cov))"
   ]
  },
  {
   "cell_type": "markdown",
   "metadata": {},
   "source": [
    "#### Full conditional for $\\sigma^2$"
   ]
  },
  {
   "cell_type": "code",
   "execution_count": 10,
   "metadata": {
    "collapsed": false
   },
   "outputs": [],
   "source": [
    "shape = (X.shape[0]-1+X.shape[1])/2\n",
    "scale = ((Y_tilde - X.dot(beta)).dot((Y_tilde - X.dot(beta))) + beta.transpose().dot(np.linalg.inv(D_tau)).dot(beta))/2\n",
    "sigma_sq_.append(sc.invgamma.rvs(a = shape, scale = scale))"
   ]
  },
  {
   "cell_type": "markdown",
   "metadata": {},
   "source": [
    "#### Full conditional for $\\tau^2_1, ..., \\tau^2_p$"
   ]
  },
  {
   "cell_type": "code",
   "execution_count": 11,
   "metadata": {
    "collapsed": true
   },
   "outputs": [],
   "source": [
    "###############\n",
    "# Say lambda 0 is equal to 1\n",
    "lambda_ = 2"
   ]
  },
  {
   "cell_type": "code",
   "execution_count": 32,
   "metadata": {
    "collapsed": false
   },
   "outputs": [],
   "source": [
    "mean = np.sqrt(lambda_**2*sigma_sq/beta**2)\n",
    "scale = lambda_**2\n",
    "tau_sq_.append(np.random.wald(mean, scale))"
   ]
  },
  {
   "cell_type": "code",
   "execution_count": 42,
   "metadata": {
    "collapsed": false
   },
   "outputs": [],
   "source": [
    "t = []\n",
    "for i in range(len(tau_sq)):\n",
    "    t.append(np.random.wald(mean[i], scale))\n",
    "tau_sq_.append(np.array(t))"
   ]
  },
  {
   "cell_type": "markdown",
   "metadata": {},
   "source": [
    "#### Gibbs sampler"
   ]
  },
  {
   "cell_type": "markdown",
   "metadata": {},
   "source": [
    "## 1] CHOOSING THE BAYESIAN LASSO PARAMETER\n",
    "\n",
    "The Gibbs sampler used here uses the following full conditional distributions:\n",
    "\n",
    "- The full conditional for $\\beta$ is:\n",
    "\n",
    "<h3 align=\"center\"> $\\mathcal{N}_p(A^{-1}X^T\\tilde{y}, \\sigma^2A^{-1})$ where $A = X^TX+D^{-1}_\\tau$ and $D_\\tau = diag(\\tau^2_1,...,\\tau^2_p)$ </h3>\n",
    "\n",
    "- The full conditional for $\\sigma^2$ is:\n",
    "\n",
    "<h3 align=\"center\"> $\\mathcal{I}nverse\\mathcal{G}amma(\\frac{n-1+p}{2}, \\frac{(\\tilde{y}-X\\beta)^T(\\tilde{y}-X\\beta) + \\beta^TD^{-1}_\\tau\\beta}{2})$ </h3>\n",
    "\n",
    "- $\\tau^2_1, ..., \\tau^2_p$ are conditionnaly independent and $\\frac{1}{\\tau^2_j}$ has as conditional distribution:\n",
    "\n",
    "<h3 align=\"center\"> $\\mathcal{I}nverse\\mathcal{G}ausian(\\sqrt{\\frac{\\lambda^2\\sigma^2}{\\beta^2_j}}, \\lambda^2)$ </h3>"
   ]
  },
  {
   "cell_type": "code",
   "execution_count": 210,
   "metadata": {
    "collapsed": true
   },
   "outputs": [],
   "source": [
    "def Gibbs_sampler(n, lambda_):\n",
    "    # Initialization\n",
    "    beta = [np.random.uniform(size = X.shape[1])]\n",
    "    sigma_sq = [np.random.uniform()]\n",
    "    tau_sq = [np.random.uniform(size = X.shape[1])]\n",
    "    for i in range(n):\n",
    "        # Full conditional for beta\n",
    "        D_tau = np.diag(tau_sq[i])\n",
    "        A = X.transpose().dot(X) + np.linalg.inv(D_tau)\n",
    "        multi_norm_mean = np.linalg.inv(A).dot(X.transpose()).dot(Y_tilde)\n",
    "        multi_norm_cov = sigma_sq[i] * np.linalg.inv(A)\n",
    "        beta.append(np.random.multivariate_normal(multi_norm_mean, multi_norm_cov))\n",
    "        # Full conditional for sigma_sq\n",
    "        shape = (X.shape[0]-1+X.shape[1])/2\n",
    "        scale = ((Y_tilde - X.dot(beta[i+1])).dot((Y_tilde - X.dot(beta[i+1]))) + beta[i+1].transpose().dot(np.linalg.inv(D_tau)).dot(beta[i+1]))/2\n",
    "        sigma_sq.append(sc.invgamma.rvs(a = shape, scale = scale))\n",
    "        # Full conditional for tau_1,...,tau_p\n",
    "        mean = np.sqrt(lambda_**2*sigma_sq[i+1]/beta[i+1]**2)\n",
    "        scale = np.repeat(lambda_**2, X.shape[1])\n",
    "        tau_sq.append(1/np.random.wald(mean, scale))\n",
    "    return tau_sq[int(n/2):]"
   ]
  },
  {
   "cell_type": "markdown",
   "metadata": {},
   "source": [
    "#### Empirical Bayes by Marginal Maximum Likelihood\n",
    "\n",
    "For the Bayesian Lasso, each iteration of the algorithm involves running the Gibbs sampler using a $\\lambda$ value estimated from the sample of the previous iteration. Specifically, iteration $k$ uses the Gibbs sampler of Section 2 with hyperparameter $\\lambda^{(k-1)}$ (i.e., the estimate from iteration $k-1$) to approximate the ideal updated estimate:\n",
    "\n",
    "<h3 align=\"center\"> $\\lambda^{(k)} = \\sqrt{\\frac{2p}{\\sum\\limits^p_{j=1}E_{\\lambda^{(k-1)}}[\\tau^2_j|\\tilde{y}]}}$ </h3>\n",
    "\n",
    "by replacing the conditional expectations with averages from the Gibbs sample. We suggest the initial value:\n",
    "\n",
    "<h3 align=\"center\"> $\\lambda^{(0)} = \\frac{p\\sqrt{\\hat{\\sigma}^2_{LS}}}{\\sum\\limits^p_{j=1}|\\hat{\\beta}^{LS}_j|}$ </h3>\n",
    "\n",
    "where $\\hat{\\sigma}^2_{LS}$ and $\\hat{\\beta}^{LS}_j$ are estimates from the usual least squares procedure."
   ]
  },
  {
   "cell_type": "code",
   "execution_count": 7,
   "metadata": {
    "collapsed": false
   },
   "outputs": [
    {
     "data": {
      "text/plain": [
       "LinearRegression(copy_X=True, fit_intercept=True, n_jobs=1, normalize=False)"
      ]
     },
     "execution_count": 7,
     "metadata": {},
     "output_type": "execute_result"
    }
   ],
   "source": [
    "from sklearn.linear_model import LinearRegression\n",
    "lm = LinearRegression()\n",
    "lm.fit(X,Y_tilde)"
   ]
  },
  {
   "cell_type": "code",
   "execution_count": 8,
   "metadata": {
    "collapsed": true
   },
   "outputs": [],
   "source": [
    "# Lambda_init\n",
    "lambda_init = (X.shape[1]*np.sqrt((np.sum((Y_tilde - lm.predict(X))**2))/(X.shape[0]-X.shape[1])))/np.sum(np.abs(lm.coef_))"
   ]
  },
  {
   "cell_type": "code",
   "execution_count": 9,
   "metadata": {
    "collapsed": false
   },
   "outputs": [
    {
     "name": "stdout",
     "output_type": "stream",
     "text": [
      "0\n",
      "1\n",
      "2\n",
      "3\n",
      "4\n",
      "5\n",
      "6\n",
      "7\n",
      "8\n",
      "9\n",
      "10\n",
      "11\n",
      "12\n",
      "13\n",
      "14\n",
      "15\n",
      "16\n",
      "17\n",
      "18\n",
      "19\n",
      "20\n",
      "21\n",
      "22\n",
      "23\n",
      "24\n",
      "25\n",
      "26\n",
      "27\n",
      "28\n",
      "29\n"
     ]
    }
   ],
   "source": [
    "# This will be used to find the next k lambda\n",
    "for i in range(30):\n",
    "    if i==0:\n",
    "        lambda_ = np.sqrt(2*X.shape[1]/sum(np.mean(Gibbs_sampler(1000, lambda_init), axis=0)))\n",
    "    else:\n",
    "        lambda_ = np.sqrt(2*X.shape[1]/sum(np.mean(Gibbs_sampler(1000, lambda_), axis=0)))\n",
    "    print(i)"
   ]
  },
  {
   "cell_type": "code",
   "execution_count": 10,
   "metadata": {
    "collapsed": false
   },
   "outputs": [
    {
     "data": {
      "text/plain": [
       "0.23680337032712748"
      ]
     },
     "execution_count": 10,
     "metadata": {},
     "output_type": "execute_result"
    }
   ],
   "source": [
    "lambda_"
   ]
  },
  {
   "cell_type": "markdown",
   "metadata": {
    "collapsed": true
   },
   "source": [
    "#### Hyperpriors for the Lasso Parameter\n",
    "\n",
    "We need to modify the previous Gibbs sampler by introducing the full conditional distribution of $\\lambda^2$, which is:\n",
    "\n",
    "<h3 align=\"center\"> $\\mathcal{G}amma(p+r, \\frac{\\sum\\limits_{j=1}^p\\tau^2_j}{2}+\\delta)$ </h3>"
   ]
  },
  {
   "cell_type": "code",
   "execution_count": 11,
   "metadata": {
    "collapsed": true
   },
   "outputs": [],
   "source": [
    "def Gibbs_sampler_bis(n, r, delta):\n",
    "    # Initialization\n",
    "    beta = [np.random.uniform(size = X.shape[1])]\n",
    "    sigma_sq = [np.random.uniform()]\n",
    "    tau_sq = [np.random.uniform(size = X.shape[1])]\n",
    "    lambda_sq = [np.random.uniform()]\n",
    "    for i in range(n):\n",
    "        # Full conditional for beta\n",
    "        D_tau = np.diag(tau_sq[i])\n",
    "        A = X.transpose().dot(X) + np.linalg.inv(D_tau)\n",
    "        multi_norm_mean = np.linalg.inv(A).dot(X.transpose()).dot(Y_tilde)\n",
    "        multi_norm_cov = sigma_sq[i] * np.linalg.inv(A)\n",
    "        beta.append(np.random.multivariate_normal(multi_norm_mean, multi_norm_cov))\n",
    "        # Full conditional for sigma_sq\n",
    "        shape = (X.shape[0]-1+X.shape[1])/2\n",
    "        scale = ((Y_tilde - X.dot(beta[i+1])).dot((Y_tilde - X.dot(beta[i+1]))) + beta[i+1].transpose().dot(np.linalg.inv(D_tau)).dot(beta[i+1]))/2\n",
    "        sigma_sq.append(sc.invgamma.rvs(a = shape, scale = scale))\n",
    "        # Full conditional for tau_1,...,tau_p\n",
    "        mean = np.sqrt(lambda_sq[i]*sigma_sq[i+1]/beta[i+1]**2)\n",
    "        scale = np.repeat(lambda_sq[i], X.shape[1])\n",
    "        tau_sq.append(1/np.random.wald(mean, scale))\n",
    "        # Full conditional for lambda_sq\n",
    "        shape = X.shape[1] + r\n",
    "        rate = sum(tau_sq[i+1])/2+delta\n",
    "        lambda_sq.append(np.random.gamma(shape, 1/rate))\n",
    "    return lambda_sq"
   ]
  },
  {
   "cell_type": "code",
   "execution_count": 12,
   "metadata": {
    "collapsed": false
   },
   "outputs": [],
   "source": [
    "lambda_sq_bis = Gibbs_sampler_bis(10000, 1, 1.78)"
   ]
  },
  {
   "cell_type": "code",
   "execution_count": 13,
   "metadata": {
    "collapsed": false
   },
   "outputs": [
    {
     "data": {
      "text/plain": [
       "0.27732732052639703"
      ]
     },
     "execution_count": 13,
     "metadata": {},
     "output_type": "execute_result"
    }
   ],
   "source": [
    "np.median([np.sqrt(i) for i in lambda_sq_bis])"
   ]
  },
  {
   "cell_type": "markdown",
   "metadata": {
    "collapsed": true
   },
   "source": [
    "# 2] Test on largest dataset"
   ]
  },
  {
   "cell_type": "code",
   "execution_count": 186,
   "metadata": {
    "collapsed": false
   },
   "outputs": [],
   "source": [
    "train = pd.read_csv('AmesHousing.txt', sep = \"\\t\")\n",
    "# Delete variables with too much NaN\n",
    "train = train.drop(train.columns[np.where(train.isnull().sum(axis = 0)>200)[0]], axis = 1)\n",
    "# Delete observation with NaN\n",
    "train = train.iloc[list(set(list(np.array(train.index))) - set(list(np.where(train.isnull().sum(axis=1)>0)[0]))),:]\n",
    "# Reset index\n",
    "train.index = [i for i in range(len(train))]"
   ]
  },
  {
   "cell_type": "code",
   "execution_count": 187,
   "metadata": {
    "collapsed": false
   },
   "outputs": [
    {
     "name": "stdout",
     "output_type": "stream",
     "text": [
      "RL         2112\n",
      "RM          398\n",
      "FV          131\n",
      "RH           21\n",
      "C (all)      15\n",
      "I (all)       1\n",
      "Name: MS Zoning, dtype: int64\n",
      "Pave    2669\n",
      "Grvl       9\n",
      "Name: Street, dtype: int64\n",
      "Reg    1657\n",
      "IR1     933\n",
      "IR2      73\n",
      "IR3      15\n",
      "Name: Lot Shape, dtype: int64\n",
      "Lvl    2409\n",
      "HLS     115\n",
      "Bnk     100\n",
      "Low      54\n",
      "Name: Land Contour, dtype: int64\n",
      "AllPub    2676\n",
      "NoSewr       1\n",
      "NoSeWa       1\n",
      "Name: Utilities, dtype: int64\n",
      "Inside     1946\n",
      "Corner      471\n",
      "CulDSac     171\n",
      "FR2          77\n",
      "FR3          13\n",
      "Name: Lot Config, dtype: int64\n",
      "Gtl    2544\n",
      "Mod     119\n",
      "Sev      15\n",
      "Name: Land Slope, dtype: int64\n",
      "NAmes      416\n",
      "CollgCr    262\n",
      "OldTown    203\n",
      "Somerst    170\n",
      "NridgHt    163\n",
      "Gilbert    159\n",
      "Edwards    142\n",
      "Sawyer     140\n",
      "NWAmes     131\n",
      "SawyerW    107\n",
      "Crawfor    101\n",
      "Mitchel    101\n",
      "BrkSide     93\n",
      "NoRidge     71\n",
      "Timber      70\n",
      "IDOTRR      69\n",
      "StoneBr     51\n",
      "ClearCr     42\n",
      "SWISU       38\n",
      "BrDale      29\n",
      "Blmngtn     28\n",
      "MeadowV     25\n",
      "Veenker     24\n",
      "NPkVill     23\n",
      "Blueste     10\n",
      "Greens       8\n",
      "GrnHill      1\n",
      "Landmrk      1\n",
      "Name: Neighborhood, dtype: int64\n",
      "Norm      2324\n",
      "Feedr      133\n",
      "Artery      78\n",
      "RRAn        47\n",
      "PosN        39\n",
      "RRAe        23\n",
      "PosA        19\n",
      "RRNn         9\n",
      "RRNe         6\n",
      "Name: Condition 1, dtype: int64\n",
      "Norm      2650\n",
      "Feedr       12\n",
      "PosA         4\n",
      "PosN         4\n",
      "Artery       4\n",
      "RRNn         2\n",
      "RRAn         1\n",
      "RRAe         1\n",
      "Name: Condition 2, dtype: int64\n",
      "1Fam      2258\n",
      "TwnhsE     227\n",
      "Twnhs       91\n",
      "Duplex      60\n",
      "2fmCon      42\n",
      "Name: Bldg Type, dtype: int64\n",
      "1Story    1343\n",
      "2Story     821\n",
      "1.5Fin     278\n",
      "SLvl       125\n",
      "SFoyer      69\n",
      "2.5Unf      21\n",
      "1.5Unf      15\n",
      "2.5Fin       6\n",
      "Name: House Style, dtype: int64\n",
      "Gable      2106\n",
      "Hip         523\n",
      "Gambrel      20\n",
      "Flat         15\n",
      "Mansard       9\n",
      "Shed          5\n",
      "Name: Roof Style, dtype: int64\n",
      "CompShg    2641\n",
      "Tar&Grv      17\n",
      "WdShake       9\n",
      "WdShngl       7\n",
      "Membran       1\n",
      "Roll          1\n",
      "Metal         1\n",
      "ClyTile       1\n",
      "Name: Roof Matl, dtype: int64\n",
      "VinylSd    965\n",
      "HdBoard    420\n",
      "MetalSd    413\n",
      "Wd Sdng    368\n",
      "Plywood    203\n",
      "CemntBd    109\n",
      "BrkFace     77\n",
      "WdShing     45\n",
      "Stucco      35\n",
      "AsbShng     34\n",
      "BrkComm      5\n",
      "Stone        2\n",
      "ImStucc      1\n",
      "CBlock       1\n",
      "Name: Exterior 1st, dtype: int64\n",
      "VinylSd    952\n",
      "MetalSd    412\n",
      "HdBoard    383\n",
      "Wd Sdng    352\n",
      "Plywood    247\n",
      "CmentBd    109\n",
      "Wd Shng     66\n",
      "BrkFace     43\n",
      "Stucco      40\n",
      "AsbShng     32\n",
      "Brk Cmn     21\n",
      "ImStucc     15\n",
      "AsphShn      2\n",
      "Stone        2\n",
      "CBlock       1\n",
      "Other        1\n",
      "Name: Exterior 2nd, dtype: int64\n",
      "None       1549\n",
      "BrkFace     858\n",
      "Stone       248\n",
      "BrkCmn       22\n",
      "CBlock        1\n",
      "Name: Mas Vnr Type, dtype: int64\n",
      "TA    1602\n",
      "Gd     953\n",
      "Ex     106\n",
      "Fa      17\n",
      "Name: Exter Qual, dtype: int64\n",
      "TA    2346\n",
      "Gd     277\n",
      "Fa      43\n",
      "Ex      11\n",
      "Po       1\n",
      "Name: Exter Cond, dtype: int64\n",
      "PConc     1242\n",
      "CBlock    1146\n",
      "BrkTil     275\n",
      "Stone       10\n",
      "Wood         5\n",
      "Name: Foundation, dtype: int64\n",
      "TA    1186\n",
      "Gd    1165\n",
      "Ex     251\n",
      "Fa      74\n",
      "Po       2\n",
      "Name: Bsmt Qual, dtype: int64\n",
      "TA    2471\n",
      "Gd     115\n",
      "Fa      87\n",
      "Ex       3\n",
      "Po       2\n",
      "Name: Bsmt Cond, dtype: int64\n",
      "No    1776\n",
      "Av     397\n",
      "Gd     274\n",
      "Mn     231\n",
      "Name: Bsmt Exposure, dtype: int64\n",
      "GLQ    827\n",
      "Unf    759\n",
      "ALQ    411\n",
      "Rec    275\n",
      "BLQ    259\n",
      "LwQ    147\n",
      "Name: BsmtFin Type 1, dtype: int64\n",
      "Unf    2334\n",
      "Rec     104\n",
      "LwQ      89\n",
      "BLQ      67\n",
      "ALQ      52\n",
      "GLQ      32\n",
      "Name: BsmtFin Type 2, dtype: int64\n",
      "GasA    2650\n",
      "GasW      24\n",
      "Grav       3\n",
      "OthW       1\n",
      "Name: Heating, dtype: int64\n",
      "Ex    1413\n",
      "TA     763\n",
      "Gd     432\n",
      "Fa      68\n",
      "Po       2\n",
      "Name: Heating QC, dtype: int64\n",
      "Y    2559\n",
      "N     119\n",
      "Name: Central Air, dtype: int64\n",
      "SBrkr    2485\n",
      "FuseA     153\n",
      "FuseF      34\n",
      "FuseP       5\n",
      "Mix         1\n",
      "Name: Electrical, dtype: int64\n",
      "TA    1324\n",
      "Gd    1110\n",
      "Ex     197\n",
      "Fa      46\n",
      "Po       1\n",
      "Name: Kitchen Qual, dtype: int64\n",
      "Typ     2517\n",
      "Min2      58\n",
      "Min1      55\n",
      "Mod       26\n",
      "Maj1      15\n",
      "Maj2       5\n",
      "Sev        1\n",
      "Sal        1\n",
      "Name: Functional, dtype: int64\n",
      "Attchd     1676\n",
      "Detchd      752\n",
      "BuiltIn     181\n",
      "Basment      36\n",
      "2Types       21\n",
      "CarPort      12\n",
      "Name: Garage Type, dtype: int64\n",
      "Unf    1179\n",
      "RFn     791\n",
      "Fin     708\n",
      "Name: Garage Finish, dtype: int64\n",
      "TA    2528\n",
      "Fa     118\n",
      "Gd      24\n",
      "Po       5\n",
      "Ex       3\n",
      "Name: Garage Qual, dtype: int64\n",
      "TA    2579\n",
      "Fa      69\n",
      "Gd      14\n",
      "Po      13\n",
      "Ex       3\n",
      "Name: Garage Cond, dtype: int64\n",
      "Y    2491\n",
      "N     131\n",
      "P      56\n",
      "Name: Paved Drive, dtype: int64\n",
      "WD       2317\n",
      "New       223\n",
      "COD        84\n",
      "ConLD      17\n",
      "CWD        12\n",
      "ConLI       8\n",
      "ConLw       7\n",
      "Con         5\n",
      "Oth         4\n",
      "VWD         1\n",
      "Name: Sale Type, dtype: int64\n",
      "Normal     2226\n",
      "Partial     229\n",
      "Abnorml     158\n",
      "Family       45\n",
      "Alloca       14\n",
      "AdjLand       6\n",
      "Name: Sale Condition, dtype: int64\n"
     ]
    }
   ],
   "source": [
    "for i in train.select_dtypes(['O']).columns:\n",
    "    print(train[i].value_counts())"
   ]
  },
  {
   "cell_type": "code",
   "execution_count": 188,
   "metadata": {
    "collapsed": false
   },
   "outputs": [],
   "source": [
    "train = pd.get_dummies(train)"
   ]
  },
  {
   "cell_type": "code",
   "execution_count": 206,
   "metadata": {
    "collapsed": false
   },
   "outputs": [],
   "source": [
    "X = train.loc[:,list(set(train.columns) - {'SalePrice'})].as_matrix()\n",
    "Y_tilde = train.loc[:,\"SalePrice\"].ravel()"
   ]
  },
  {
   "cell_type": "markdown",
   "metadata": {},
   "source": [
    "#### Empirical Bayes by Marginal Maximum Likelihood"
   ]
  },
  {
   "cell_type": "markdown",
   "metadata": {},
   "source": [
    "#### Problem encountered in large dimansion with sparse dataset: Theory vs Implementation\n",
    "\n",
    "We have the problem that $\\sigma^2A^{-1}$ which is the covariance matrix used to generate the $\\beta$'s is from the computer point of view not positive semi-definite.\n",
    "\n",
    "Theoretically, the matrix is positive semidefinite, with several eigenvalues being exactly zero. But the computations with floating point numbers introduce truncation errors which result in some of those eigenvalues being very small but negative; hence, the matrix is not positive semidefinite.\n",
    "\n",
    "A way to correct for the floating point errors is to add a tiny multiple of the identity matrix to the covariance matrix. I take this into account and add it in my Gibbs sampler."
   ]
  },
  {
   "cell_type": "code",
   "execution_count": 261,
   "metadata": {
    "collapsed": true
   },
   "outputs": [],
   "source": [
    "def Gibbs_sampler_corrected(n, lambda_):\n",
    "    # Initialization\n",
    "    beta = [np.random.uniform(size = X.shape[1])]\n",
    "    sigma_sq = [np.random.uniform()]\n",
    "    tau_sq = [np.random.uniform(size = X.shape[1])]\n",
    "    for i in range(n):\n",
    "        # Full conditional for beta\n",
    "        D_tau = np.diag(tau_sq[i])\n",
    "        A = X.transpose().dot(X) + np.linalg.inv(D_tau)\n",
    "        multi_norm_mean = np.linalg.inv(A).dot(X.transpose()).dot(Y_tilde)\n",
    "        multi_norm_cov = sigma_sq[i] * np.linalg.inv(A)\n",
    "        beta.append(np.random.multivariate_normal(multi_norm_mean, multi_norm_cov))\n",
    "        # Full conditional for sigma_sq\n",
    "        shape = (X.shape[0]-1+X.shape[1])/2\n",
    "        scale = ((Y_tilde - X.dot(beta[i+1])).dot((Y_tilde - X.dot(beta[i+1]))) + beta[i+1].transpose().dot(np.linalg.inv(D_tau)).dot(beta[i+1]))/2\n",
    "        sigma_sq.append(sc.invgamma.rvs(a = shape, scale = scale))\n",
    "        # Full conditional for tau_1,...,tau_p\n",
    "        mean = np.sqrt(lambda_**2*sigma_sq[i+1]/beta[i+1]**2)\n",
    "        scale = np.repeat(lambda_**2, X.shape[1])\n",
    "        tau_sq.append(1/np.random.wald(mean, scale))\n",
    "    return tau_sq[int(n/2):]"
   ]
  },
  {
   "cell_type": "code",
   "execution_count": 262,
   "metadata": {
    "collapsed": false
   },
   "outputs": [
    {
     "data": {
      "text/plain": [
       "LinearRegression(copy_X=True, fit_intercept=True, n_jobs=1, normalize=False)"
      ]
     },
     "execution_count": 262,
     "metadata": {},
     "output_type": "execute_result"
    }
   ],
   "source": [
    "from sklearn.linear_model import LinearRegression\n",
    "lm = LinearRegression()\n",
    "lm.fit(X,Y_tilde)"
   ]
  },
  {
   "cell_type": "code",
   "execution_count": 263,
   "metadata": {
    "collapsed": false
   },
   "outputs": [],
   "source": [
    "# Lambda_init\n",
    "lambda_init = (X.shape[1]*np.sqrt((np.sum((Y_tilde - lm.predict(X))**2))/(X.shape[0]-X.shape[1])))/np.sum(np.abs(lm.coef_))"
   ]
  },
  {
   "cell_type": "code",
   "execution_count": 264,
   "metadata": {
    "collapsed": false
   },
   "outputs": [
    {
     "name": "stderr",
     "output_type": "stream",
     "text": [
      "/Users/Linger/anaconda/lib/python3.5/site-packages/ipykernel/__main__.py:12: RuntimeWarning: covariance is not positive-semidefinite.\n"
     ]
    },
    {
     "name": "stdout",
     "output_type": "stream",
     "text": [
      "2.55176489228\n",
      "3.45927018292\n",
      "4.51350458301\n",
      "5.95850668314\n",
      "7.66918759621\n"
     ]
    }
   ],
   "source": [
    "# This will be used to find the next k lambda\n",
    "for i in range(5):\n",
    "    if i==0:\n",
    "        lambda_ = np.sqrt(2*X.shape[1]/sum(np.mean(Gibbs_sampler_corrected(100, lambda_init), axis=0)))\n",
    "    else:\n",
    "        lambda_ = np.sqrt(2*X.shape[1]/sum(np.mean(Gibbs_sampler_corrected(100, lambda_), axis=0)))\n",
    "    print(lambda_)"
   ]
  },
  {
   "cell_type": "code",
   "execution_count": 265,
   "metadata": {
    "collapsed": false
   },
   "outputs": [
    {
     "data": {
      "text/plain": [
       "7.6691875962103646"
      ]
     },
     "execution_count": 265,
     "metadata": {},
     "output_type": "execute_result"
    }
   ],
   "source": [
    "lambda_"
   ]
  },
  {
   "cell_type": "markdown",
   "metadata": {},
   "source": [
    "#### Hyperpriors for the Lasso Parameter\n",
    "\n",
    "Same problem as before, so I need to modify the Gibbs sampler"
   ]
  },
  {
   "cell_type": "code",
   "execution_count": 269,
   "metadata": {
    "collapsed": true
   },
   "outputs": [],
   "source": [
    "def Gibbs_sampler_bis_corrected(n, r, delta):\n",
    "    # Initialization\n",
    "    beta = [np.random.uniform(size = X.shape[1])]\n",
    "    sigma_sq = [np.random.uniform()]\n",
    "    tau_sq = [np.random.uniform(size = X.shape[1])]\n",
    "    lambda_sq = [np.random.uniform()]\n",
    "    for i in range(n):\n",
    "        # Full conditional for beta\n",
    "        D_tau = np.diag(tau_sq[i])\n",
    "        A = X.transpose().dot(X) + np.linalg.inv(D_tau)\n",
    "        multi_norm_mean = np.linalg.inv(A).dot(X.transpose()).dot(Y_tilde)\n",
    "        #min_eig = np.min(np.real(np.linalg.inv(A)))\n",
    "        #if min_eig < 0:\n",
    "        #    A -= 10*min_eig * np.eye(*A.shape)\n",
    "        multi_norm_cov = sigma_sq[i] * np.linalg.inv(A)\n",
    "        beta.append(np.random.multivariate_normal(multi_norm_mean, multi_norm_cov))\n",
    "        # Full conditional for sigma_sq\n",
    "        shape = (X.shape[0]-1+X.shape[1])/2\n",
    "        scale = ((Y_tilde - X.dot(beta[i+1])).dot((Y_tilde - X.dot(beta[i+1]))) + beta[i+1].transpose().dot(np.linalg.inv(D_tau)).dot(beta[i+1]))/2\n",
    "        sigma_sq.append(sc.invgamma.rvs(a = shape, scale = scale))\n",
    "        # Full conditional for tau_1,...,tau_p\n",
    "        mean = np.sqrt(lambda_sq[i]*sigma_sq[i+1]/beta[i+1]**2)\n",
    "        scale = np.repeat(lambda_sq[i], X.shape[1])\n",
    "        tau_sq.append(1/np.random.wald(mean, scale))\n",
    "        # Full conditional for lambda_sq\n",
    "        shape = X.shape[1] + r\n",
    "        rate = sum(tau_sq[i+1])/2+delta\n",
    "        lambda_sq.append(np.random.gamma(shape, 1/rate))\n",
    "    return lambda_sq"
   ]
  },
  {
   "cell_type": "code",
   "execution_count": 267,
   "metadata": {
    "collapsed": false
   },
   "outputs": [
    {
     "name": "stderr",
     "output_type": "stream",
     "text": [
      "/Users/Linger/anaconda/lib/python3.5/site-packages/ipykernel/__main__.py:16: RuntimeWarning: covariance is not positive-semidefinite.\n"
     ]
    }
   ],
   "source": [
    "lambda_sq_bis = Gibbs_sampler_bis_corrected(100, 10, 30)"
   ]
  },
  {
   "cell_type": "code",
   "execution_count": 268,
   "metadata": {
    "collapsed": false
   },
   "outputs": [
    {
     "data": {
      "text/plain": [
       "2.1708062532839949"
      ]
     },
     "execution_count": 268,
     "metadata": {},
     "output_type": "execute_result"
    }
   ],
   "source": [
    "np.median([np.sqrt(i) for i in lambda_sq_bis])"
   ]
  },
  {
   "cell_type": "code",
   "execution_count": 272,
   "metadata": {
    "collapsed": true
   },
   "outputs": [],
   "source": [
    "dat = pd.read_table('bio_train.dat')"
   ]
  },
  {
   "cell_type": "code",
   "execution_count": 274,
   "metadata": {
    "collapsed": false
   },
   "outputs": [
    {
     "data": {
      "text/plain": [
       "(145750, 77)"
      ]
     },
     "execution_count": 274,
     "metadata": {},
     "output_type": "execute_result"
    }
   ],
   "source": [
    "dat.shape"
   ]
  },
  {
   "cell_type": "code",
   "execution_count": null,
   "metadata": {
    "collapsed": true
   },
   "outputs": [],
   "source": []
  }
 ],
 "metadata": {
  "anaconda-cloud": {},
  "kernelspec": {
   "display_name": "Python [Root]",
   "language": "python",
   "name": "Python [Root]"
  },
  "language_info": {
   "codemirror_mode": {
    "name": "ipython",
    "version": 3
   },
   "file_extension": ".py",
   "mimetype": "text/x-python",
   "name": "python",
   "nbconvert_exporter": "python",
   "pygments_lexer": "ipython3",
   "version": "3.5.2"
  }
 },
 "nbformat": 4,
 "nbformat_minor": 2
}
